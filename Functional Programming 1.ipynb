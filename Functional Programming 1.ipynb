{
 "cells": [
  {
   "cell_type": "code",
   "execution_count": 1,
   "id": "749f85de-2e64-47a3-9d55-547f44f848b6",
   "metadata": {},
   "outputs": [
    {
     "name": "stdout",
     "output_type": "stream",
     "text": [
      "Square of 5: 25\n",
      "Add two to 10: 12\n",
      "Applying square function to data: [1, 4, 9, 16, 25]\n",
      "Adding two to 7 (using lambda): 9\n"
     ]
    }
   ],
   "source": [
    "###\tFirst-Class and Higher-Order Functions\n",
    "###\tPure Functions\n",
    "\n",
    "\n",
    "# Function Storage\n",
    "function_storage = {}\n",
    "\n",
    "# Storing Functions\n",
    "def store_function(key, func):\n",
    "    function_storage[key] = func\n",
    "\n",
    "# Retrieving Functions\n",
    "def get_function(key):\n",
    "    return function_storage.get(key)\n",
    "\n",
    "# Higher-Order Function: Applying a function to a list\n",
    "def apply_function_to_list(func, data):\n",
    "    return [func(item) for item in data]\n",
    "\n",
    "# Pure Function: Calculate square of a number\n",
    "def calculate_square(num):\n",
    "    return num * num\n",
    "\n",
    "# Lambda Function: Applying a simple transformation\n",
    "add_two = lambda x: x + 2\n",
    "\n",
    "# Example usage:\n",
    "if __name__ == \"__main__\":\n",
    "    # Store functions\n",
    "    store_function('square', calculate_square) # Function of calculate_square will be run using the name square after this line\n",
    "    store_function('add_two', add_two)\n",
    "\n",
    "    # Retrieve and use functions\n",
    "    square_func = get_function('square') # calculate_square is stored as square 3 lines above\n",
    "    add_two_func = get_function('add_two')\n",
    "\n",
    "    print(\"Square of 5:\", square_func(5))\n",
    "    print(\"Add two to 10:\", add_two_func(10))\n",
    "\n",
    "    # Higher-order function usage\n",
    "    data = [1, 2, 3, 4, 5]\n",
    "    print(\"Applying square function to data:\", apply_function_to_list(square_func, data))\n",
    "\n",
    "    # Using lambda function\n",
    "    print(\"Adding two to 7 (using lambda):\", add_two(7))"
   ]
  },
  {
   "cell_type": "code",
   "execution_count": null,
   "id": "f60322c2-b094-4909-8ac9-1978bc3ee53a",
   "metadata": {},
   "outputs": [],
   "source": []
  }
 ],
 "metadata": {
  "kernelspec": {
   "display_name": "Python 3 (ipykernel)",
   "language": "python",
   "name": "python3"
  },
  "language_info": {
   "codemirror_mode": {
    "name": "ipython",
    "version": 3
   },
   "file_extension": ".py",
   "mimetype": "text/x-python",
   "name": "python",
   "nbconvert_exporter": "python",
   "pygments_lexer": "ipython3",
   "version": "3.12.0"
  }
 },
 "nbformat": 4,
 "nbformat_minor": 5
}
