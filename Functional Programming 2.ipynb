{
 "cells": [
  {
   "cell_type": "code",
   "execution_count": 1,
   "id": "67a5659d-bf16-4aea-bcd8-0118019bb352",
   "metadata": {},
   "outputs": [
    {
     "name": "stdout",
     "output_type": "stream",
     "text": [
      "Squared using map: [1, 4, 9, 16, 25, 36, 49, 64, 81, 100]\n",
      "Even numbers using filter: [2, 4, 6, 8, 10]\n",
      "Sum of elements using reduce: 55\n",
      "Squares of even numbers using list comprehension: [4, 16, 36, 64, 100]\n",
      "Generator expression for squares:\n",
      "1\n",
      "4\n",
      "9\n",
      "16\n",
      "25\n",
      "36\n",
      "49\n",
      "64\n",
      "81\n",
      "100\n",
      "Generator expression for squares: <generator object <genexpr> at 0x107452c20>\n"
     ]
    }
   ],
   "source": [
    "### Map, Filter, and Reduce\n",
    "###\tList Comprehensions and Generator Expressions\n",
    "### Lambda Function\n",
    "\n",
    "from functools import reduce\n",
    "\n",
    "# Example data\n",
    "data = [1, 2, 3, 4, 5, 6, 7, 8, 9, 10]\n",
    "\n",
    "# Using map to square each element\n",
    "squared = list(map(lambda x: x * x, data)) #The map() function applies a given function to each item in an iterable\n",
    "\n",
    "# Using filter to get even numbers\n",
    "even_numbers = list(filter(lambda x: x % 2 == 0, data))\n",
    "\n",
    "# Using reduce to find the sum of elements\n",
    "sum_of_elements = reduce(lambda x, y: x + y, data)\n",
    "\n",
    "# List comprehension to create squares of even numbers\n",
    "squares_of_even = [x * x for x in data if x % 2 == 0]\n",
    "\n",
    "# Generator expression for generating squares of numbers\n",
    "generator_squares = (x * x for x in data)\n",
    "\n",
    "# Example usage:\n",
    "if __name__ == \"__main__\":\n",
    "    print(\"Squared using map:\", squared)\n",
    "    print(\"Even numbers using filter:\", even_numbers)\n",
    "    print(\"Sum of elements using reduce:\", sum_of_elements)\n",
    "    print(\"Squares of even numbers using list comprehension:\", squares_of_even)\n",
    "\n",
    "    print(\"Generator expression for squares:\")\n",
    "    for square in generator_squares: # What ever other name you choose instead it still will be the formula related squaring of numbers\n",
    "        print(square)\n",
    "\n",
    "    print(\"Generator expression for squares:\",generator_squares)\n"
   ]
  },
  {
   "cell_type": "code",
   "execution_count": null,
   "id": "93757506-1f07-41f8-83d4-c730507ed117",
   "metadata": {},
   "outputs": [],
   "source": []
  }
 ],
 "metadata": {
  "kernelspec": {
   "display_name": "Python 3 (ipykernel)",
   "language": "python",
   "name": "python3"
  },
  "language_info": {
   "codemirror_mode": {
    "name": "ipython",
    "version": 3
   },
   "file_extension": ".py",
   "mimetype": "text/x-python",
   "name": "python",
   "nbconvert_exporter": "python",
   "pygments_lexer": "ipython3",
   "version": "3.12.0"
  }
 },
 "nbformat": 4,
 "nbformat_minor": 5
}
